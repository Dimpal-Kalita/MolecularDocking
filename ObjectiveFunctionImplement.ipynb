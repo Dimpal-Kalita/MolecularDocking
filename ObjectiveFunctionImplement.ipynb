{
  "cells": [
    {
      "cell_type": "markdown",
      "id": "dd066771",
      "metadata": {
        "id": "dd066771"
      },
      "source": [
        "# Quantum Molecular Unfolding\n",
        "https://arxiv.org/abs/2107.13607\n",
        "\n",
        "Kevin Mato, Riccardo Mengoni, Daniele Ottaviani, Gianluca Palermo\n",
        "\n",
        "*Abstract*: Molecular Docking (MD) is an important step of the drug discovery process which aims at calculating the preferred position and shape of one molecule to a second when they are bound to each other. During such analysis, 3D representations of molecules are manipulated according to their degree of freedoms: rigid roto-translation and fragment rotations along the rotatable bonds. In our work, we focused on one specific phase of the molecular docking procedure i.e. Molecular Unfolding (MU), which is used to remove the initial bias of a molecule by expanding it to an unfolded shape. The objective of the MU problem is to find the configuration that maximizes the molecular area, or equivalently, that maximizes the internal distances between atoms inside the molecule. We propose a quantum annealing approach to MU by formulating it as a High-order Unconstrained Binary Optimization (HUBO) which was possible to solve on the latest D-Wave annealing hardware (2000Q and Advantage). Results and performances obtained with quantum annealers are compared with state of art classical solvers.\n"
      ]
    },
    {
      "cell_type": "code",
      "source": [
        "!pip install dimod\n",
        "!pip install dwave-neal"
      ],
      "metadata": {
        "colab": {
          "base_uri": "https://localhost:8080/"
        },
        "id": "QCyVTfi-qFcB",
        "outputId": "2a36975a-c77b-43df-f537-b74add9a08d6"
      },
      "id": "QCyVTfi-qFcB",
      "execution_count": null,
      "outputs": [
        {
          "output_type": "stream",
          "name": "stdout",
          "text": [
            "Collecting dimod\n",
            "  Downloading dimod-0.12.18-cp310-cp310-manylinux_2_17_x86_64.manylinux2014_x86_64.whl.metadata (4.0 kB)\n",
            "Requirement already satisfied: numpy>=1.17.3 in /usr/local/lib/python3.10/dist-packages (from dimod) (1.26.4)\n",
            "Downloading dimod-0.12.18-cp310-cp310-manylinux_2_17_x86_64.manylinux2014_x86_64.whl (9.0 MB)\n",
            "\u001b[2K   \u001b[90m━━━━━━━━━━━━━━━━━━━━━━━━━━━━━━━━━━━━━━━━\u001b[0m \u001b[32m9.0/9.0 MB\u001b[0m \u001b[31m28.6 MB/s\u001b[0m eta \u001b[36m0:00:00\u001b[0m\n",
            "\u001b[?25hInstalling collected packages: dimod\n",
            "Successfully installed dimod-0.12.18\n",
            "Collecting dwave-neal\n",
            "  Downloading dwave_neal-0.6.0-py3-none-any.whl.metadata (3.0 kB)\n",
            "Collecting dwave-samplers<2.0.0,>=1.0.0 (from dwave-neal)\n",
            "  Downloading dwave_samplers-1.4.0-cp310-cp310-manylinux_2_17_x86_64.manylinux2014_x86_64.whl.metadata (9.9 kB)\n",
            "Requirement already satisfied: numpy<3.0.0,>=1.19.0 in /usr/local/lib/python3.10/dist-packages (from dwave-samplers<2.0.0,>=1.0.0->dwave-neal) (1.26.4)\n",
            "Requirement already satisfied: dimod<0.13.0,>=0.12.13 in /usr/local/lib/python3.10/dist-packages (from dwave-samplers<2.0.0,>=1.0.0->dwave-neal) (0.12.18)\n",
            "Requirement already satisfied: networkx>=3.0 in /usr/local/lib/python3.10/dist-packages (from dwave-samplers<2.0.0,>=1.0.0->dwave-neal) (3.4.2)\n",
            "Downloading dwave_neal-0.6.0-py3-none-any.whl (8.7 kB)\n",
            "Downloading dwave_samplers-1.4.0-cp310-cp310-manylinux_2_17_x86_64.manylinux2014_x86_64.whl (6.7 MB)\n",
            "\u001b[2K   \u001b[90m━━━━━━━━━━━━━━━━━━━━━━━━━━━━━━━━━━━━━━━━\u001b[0m \u001b[32m6.7/6.7 MB\u001b[0m \u001b[31m25.0 MB/s\u001b[0m eta \u001b[36m0:00:00\u001b[0m\n",
            "\u001b[?25hInstalling collected packages: dwave-samplers, dwave-neal\n",
            "Successfully installed dwave-neal-0.6.0 dwave-samplers-1.4.0\n"
          ]
        }
      ]
    },
    {
      "cell_type": "code",
      "source": [
        "from google.colab import drive\n",
        "drive.mount('/content/drive')"
      ],
      "metadata": {
        "colab": {
          "base_uri": "https://localhost:8080/"
        },
        "id": "KMJEyxtitAc6",
        "outputId": "20e8fe96-8a05-4744-e124-dc5e37a83356"
      },
      "id": "KMJEyxtitAc6",
      "execution_count": null,
      "outputs": [
        {
          "output_type": "stream",
          "name": "stdout",
          "text": [
            "Mounted at /content/drive\n"
          ]
        }
      ]
    },
    {
      "cell_type": "code",
      "execution_count": null,
      "id": "8d2442c0",
      "metadata": {
        "id": "8d2442c0"
      },
      "outputs": [],
      "source": [
        "import sys\n",
        "sys.path.append('../')\n",
        "import math\n",
        "import sympy\n",
        "from sympy import poly\n",
        "import numpy\n",
        "import dimod\n",
        "from sympy import symbols\n",
        "from copy import deepcopy\n",
        "import neal"
      ]
    },
    {
      "cell_type": "markdown",
      "id": "edffb6e0",
      "metadata": {
        "id": "edffb6e0"
      },
      "source": [
        "HUBOs for Quantum Molecular unfolding problem have this form $H(x_{ik})=A\\sum_{i} \\left( \\sum_{k=1}^d x_{ik} -1 \\right)^2 - \\sum_{\\substack{a,b}} D_{ab}( {\\Theta})^2$\n",
        "\n",
        "where $H_A=A\\sum_{i} \\left( \\sum_{k=1}^d x_{ik} -1 \\right)^2$ is the hard constraint, modulated by coefficient A which has to be large wrt maximum coefficint appearing in $H_B=\\sum_{\\substack{a,b}} D_{ab}( {\\Theta})^2$ which is the optimization term, responsible for maximization of internal distances.\n",
        "\n",
        "\n",
        "HUBOs are already generated and are stored in folders. HUBOs are divided in several groups, depending on number of rotatable bonds considered (e.g. 5 rotatable bonds in the folder *./N_Rot_5*) and value of the threshold used to generate the HUBO (e.g. threshold value equal to 100 in folder *./HUBO_5_100*)."
      ]
    },
    {
      "cell_type": "markdown",
      "id": "0d4e239f",
      "metadata": {
        "id": "0d4e239f"
      },
      "source": [
        "### Select the Molecular HUBO you want to study.\n",
        "Check that the path is correct."
      ]
    },
    {
      "cell_type": "code",
      "execution_count": null,
      "id": "140db702",
      "metadata": {
        "id": "140db702"
      },
      "outputs": [],
      "source": [
        "HUBO_Mol=\"/content/drive/MyDrive/MolecularDockingData/N_Rot_2/HUBO_40A12Rot_2#s2\""
      ]
    },
    {
      "cell_type": "markdown",
      "id": "fd6eae78",
      "metadata": {
        "id": "fd6eae78"
      },
      "source": [
        "Initializing the variables need in the problem"
      ]
    },
    {
      "cell_type": "code",
      "execution_count": null,
      "id": "90854899",
      "metadata": {
        "id": "90854899"
      },
      "outputs": [],
      "source": [
        "#numer of rotatable bond considered\n",
        "num_rots=int(HUBO_Mol[HUBO_Mol.find(\"s\")+1])\n",
        "\n",
        "#Initialize variables\n",
        "if num_rots==2:\n",
        "    a0, a1, a2, a3  = symbols('a0, a1, a2, a3')\n",
        "if num_rots==4:\n",
        "    a0, a1, a2, a3, a4, a5, a6, a7  = symbols('a0, a1, a2, a3, a4, a5, a6, a7')\n",
        "if num_rots==5:\n",
        "    a0, a1, a2, a3, a4, a5, a6, a7, a8, a9  = symbols('a0, a1, a2, a3, a4, a5, a6, a7, a8, a9')\n",
        "if num_rots==6:\n",
        "    a0, a1, a2, a3, a4, a5, a6, a7, a8, a9, a10, a11  = symbols('a0, a1, a2, a3, a4, a5, a6, a7, a8, a9, a10, a11')\n",
        "if num_rots==8:\n",
        "    a0, a1, a2, a3, a4, a5, a6, a7, a8, a9, a10, a11, a12, a13, a14, a15  = symbols('a0, a1, a2, a3, a4, a5, a6, a7, a8, a9, a10, a11, a12, a13, a14, a15')"
      ]
    },
    {
      "cell_type": "markdown",
      "id": "3c8a40c4",
      "metadata": {
        "id": "3c8a40c4"
      },
      "source": [
        "Read the correct files in folder.\n",
        "Files named  *_total*  contain the scoring function $H_B$ to evaluate (in the format of a *sympy polynomial*)."
      ]
    },
    {
      "cell_type": "code",
      "execution_count": null,
      "id": "597710ce",
      "metadata": {
        "id": "597710ce"
      },
      "outputs": [],
      "source": [
        "FILE= HUBO_Mol + \".txt\"\n",
        "total_FILE= HUBO_Mol + '_total.txt'\n",
        "\n",
        "read_total = open(total_FILE, 'r').read()\n",
        "total=eval(read_total)"
      ]
    },
    {
      "cell_type": "markdown",
      "id": "f035f4ca",
      "metadata": {
        "id": "f035f4ca"
      },
      "source": [
        "Check the max coefficient appearing in $H_B$ and set the hard constraint strenght $A$ as 10 times this number"
      ]
    },
    {
      "cell_type": "code",
      "execution_count": null,
      "id": "8e5ee3b9",
      "metadata": {
        "id": "8e5ee3b9"
      },
      "outputs": [],
      "source": [
        "#This is used to check the maximum coefficient appearing in Hubo_B\n",
        "A_const=0\n",
        "read_dictionary_B = open(FILE, 'r').read()\n",
        "HUBO_B=eval(read_dictionary_B)\n",
        "\n",
        "#We set the Hard constraint strength as the (maximum coefficient appearing in Hubo_B)*const.\n",
        "#const was empirically selected to be 10\n",
        "const=10\n",
        "A_const=max(map(abs, list(HUBO_B.values())))*const\n",
        "\n",
        "#read the final HUBO\n",
        "read_dictionary= open(FILE, 'r').read()\n",
        "HUBO=eval(read_dictionary)"
      ]
    },
    {
      "cell_type": "markdown",
      "id": "5fec240c",
      "metadata": {
        "id": "5fec240c"
      },
      "source": [
        "Current size of the HUBO"
      ]
    },
    {
      "cell_type": "code",
      "execution_count": null,
      "id": "670ada0e",
      "metadata": {
        "colab": {
          "base_uri": "https://localhost:8080/"
        },
        "id": "670ada0e",
        "outputId": "6d7409d8-f6de-46c1-da24-9257d4f772ce"
      },
      "outputs": [
        {
          "output_type": "stream",
          "name": "stdout",
          "text": [
            "Current size of the HUBO: 137\n"
          ]
        }
      ],
      "source": [
        "print(\"Current size of the HUBO:\",len(HUBO))"
      ]
    },
    {
      "cell_type": "markdown",
      "id": "9c8e0183",
      "metadata": {
        "id": "9c8e0183"
      },
      "source": [
        "Define the Threshold approximation function.\n",
        "Coefficints with absolute value less than $10^{val}$ are deleted from the HUBO."
      ]
    },
    {
      "cell_type": "code",
      "execution_count": null,
      "id": "28e12fbd",
      "metadata": {
        "id": "28e12fbd"
      },
      "outputs": [],
      "source": [
        "def threshold_approx(h, val=1):\n",
        "    d =h.copy()\n",
        "    monoms = h.keys()\n",
        "    for m in monoms:\n",
        "        temp = d[m]\n",
        "        if (temp < 0.0):\n",
        "            temp = -1.0 * temp\n",
        "        if (temp <= (10.0 ** (val))):\n",
        "            del d[m]\n",
        "    return d"
      ]
    },
    {
      "cell_type": "markdown",
      "id": "1a936ba0",
      "metadata": {
        "id": "1a936ba0"
      },
      "source": [
        "### Select a threshold value and apply the threshold approximation"
      ]
    },
    {
      "cell_type": "code",
      "execution_count": null,
      "id": "19c6386f",
      "metadata": {
        "colab": {
          "base_uri": "https://localhost:8080/"
        },
        "id": "19c6386f",
        "outputId": "f6214cfb-ac17-4b18-de07-01ba934ba807"
      },
      "outputs": [
        {
          "output_type": "stream",
          "name": "stdout",
          "text": [
            "Size of the HUBO after threshold approximation: 73\n"
          ]
        }
      ],
      "source": [
        "#Coefficints with absolute value less than 10^{threshold} are deleted from the HUBO.\n",
        "threshold=2\n",
        "\n",
        "HUBO=threshold_approx(HUBO,threshold)\n",
        "\n",
        "print(\"Size of the HUBO after threshold approximation:\",len(HUBO))"
      ]
    },
    {
      "cell_type": "markdown",
      "id": "0d095738",
      "metadata": {
        "id": "0d095738"
      },
      "source": [
        "Constract the binary quadratic model (QUBO) from the HUBO using the function *dimod.make_quadratic* , which takes in input a *strength* parameter set to 1.5*(maximum HUBO value) for empirical reasons (as suggested by D-Wave researchers)"
      ]
    },
    {
      "cell_type": "code",
      "execution_count": null,
      "id": "fb2a61f5",
      "metadata": {
        "id": "fb2a61f5"
      },
      "outputs": [],
      "source": [
        "#calculate the strength parameter needed by make_quadratic\n",
        "max_hubo_value=max(map(abs, list(HUBO.values())))\n",
        "strength=1.5*max_hubo_value\n",
        "#generate the bqm\n",
        "bqm = dimod.make_quadratic(HUBO, strength, dimod.BINARY)"
      ]
    },
    {
      "cell_type": "markdown",
      "id": "f605fe9e",
      "metadata": {
        "id": "f605fe9e"
      },
      "source": [
        "### Select a sampler and the sample_size\n",
        "Here we consider the Simulated annealing solver. In order to use the Quantum annealing solver, please set up a D-Wave Leap account as explained here  https://docs.ocean.dwavesys.com/en/stable/overview/sapi.html\n",
        "\n",
        "Inthat case use DWaveSampler() with annealing schedule of $1 \\mu second$\n",
        "\n",
        "*sampler = EmbeddingComposite(DWaveSampler())*\n",
        "\n",
        "*sampleset = sampler.sample(bqm, num_reads=sample_size, anneal_schedule=[[0.0,0.0],[1.0,1.0]])*\n",
        "\n",
        "Remember that HUBOs get harder to solve when more rotatable bonds are considerd.\n",
        "Increase the sample_size accordingly (suggested sample_sizes: 1000, 10000, 100000)\n"
      ]
    },
    {
      "cell_type": "code",
      "execution_count": null,
      "id": "41a3fb7a",
      "metadata": {
        "id": "41a3fb7a"
      },
      "outputs": [],
      "source": [
        "sampler = neal.SimulatedAnnealingSampler()\n",
        "\n",
        "sample_size=10"
      ]
    },
    {
      "cell_type": "markdown",
      "id": "4823d0bd",
      "metadata": {
        "id": "4823d0bd"
      },
      "source": [
        "Run the problem and display sample"
      ]
    },
    {
      "cell_type": "code",
      "execution_count": null,
      "id": "d9252443",
      "metadata": {
        "colab": {
          "base_uri": "https://localhost:8080/"
        },
        "id": "d9252443",
        "outputId": "8b6f6e39-999c-4b5b-dda4-e12598022e7f"
      },
      "outputs": [
        {
          "output_type": "stream",
          "name": "stdout",
          "text": [
            "   1  2  3  4  5  6  7  8  9 10 11 12 13 14 15 16       energy num_oc.\n",
            "4  0  1  0  0  0  0  0  0  0  0  0  1  0  0  0  0 -4662.453125       1\n",
            "1  0  0  0  0  1  0  0  0  0  0  0  0  1  0  0  0 -4649.703125       1\n",
            "3  1  0  0  0  0  0  0  0  0  0  0  0  1  0  0  0 -4648.699219       1\n",
            "8  0  1  0  0  0  0  0  0  0  0  1  0  0  0  0  0 -4630.828125       1\n",
            "6  0  0  0  0  0  0  0  1  0  0  0  0  1  0  0  0 -4630.729492       1\n",
            "0  0  0  0  0  0  0  0  1  0  0  0  1  0  0  0  0 -4626.213867       1\n",
            "9  0  0  0  0  0  0  0  1  0  0  0  1  0  0  0  0 -4626.213867       1\n",
            "5  0  0  0  0  1  0  0  0  0  0  0  0  0  1  0  0  -4623.90625       1\n",
            "2  0  0  0  0  0  1  0  0  0  0  1  0  0  0  0  0 -4595.294922       1\n",
            "7  0  0  0  0  0  1  0  0  1  0  0  0  0  0  0  0 -4528.942383       1\n",
            "['BINARY', 10 rows, 10 samples, 16 variables]\n"
          ]
        }
      ],
      "source": [
        "sampleset = sampler.sample(bqm, num_reads=sample_size)\n",
        "print(sampleset)"
      ]
    },
    {
      "cell_type": "markdown",
      "id": "755dd44e",
      "metadata": {
        "id": "755dd44e"
      },
      "source": [
        "### PostProcessing Part\n",
        "Evaluating the sampleset on  $H_B$\n"
      ]
    },
    {
      "cell_type": "code",
      "execution_count": null,
      "id": "d8cbc094",
      "metadata": {
        "id": "d8cbc094"
      },
      "outputs": [],
      "source": [
        "new_answer=sampleset.record.sample\n",
        "\n",
        "counter=0\n",
        "solutions={}\n",
        "occur_solutions=[]\n",
        "occurrences={}\n",
        "\n",
        "for s in range(len(new_answer)):\n",
        "    bit_new_answer=new_answer[s]\n",
        "\n",
        "    if num_rots==2:\n",
        "\n",
        "        k1=tuple(i for i,x in enumerate(bit_new_answer[0:8]) if x == 1)\n",
        "        k2=tuple(i for i,x in enumerate(bit_new_answer[8:16]) if x == 1)\n",
        "\n",
        "        if len(k1)==1:\n",
        "            if len(k2)==1:\n",
        "\n",
        "                occur_solutions.append((k1[0]+1, k2[0]+1))\n",
        "\n",
        "                c1=numpy.cos((numpy.pi/4.0)*(k1[0]+1))\n",
        "                s1=numpy.sin((numpy.pi/4.0)*(k1[0]+1))\n",
        "                c2=numpy.cos((numpy.pi/4.0)*(k2[0]+1))\n",
        "                s2=numpy.sin((numpy.pi/4.0)*(k2[0]+1))\n",
        "\n",
        "                minim=total(c1,s1,c2,s2)\n",
        "\n",
        "                solutions[(k1[0]+1, k2[0]+1)]= minim\n",
        "                counter=counter+1\n",
        "\n",
        "    if num_rots==4:\n",
        "\n",
        "        k1=tuple(i for i,x in enumerate(bit_new_answer[0:8]) if x == 1)\n",
        "        k2=tuple(i for i,x in enumerate(bit_new_answer[8:16]) if x == 1)\n",
        "        k3=tuple(i for i,x in enumerate(bit_new_answer[16:24]) if x == 1)\n",
        "        k4=tuple(i for i,x in enumerate(bit_new_answer[24:32]) if x == 1)\n",
        "\n",
        "\n",
        "        if len(k1)==1:\n",
        "            if len(k2)==1:\n",
        "                if len(k3)==1:\n",
        "                    if len(k4)==1:\n",
        "\n",
        "                        occur_solutions.append((k1[0]+1, k2[0]+1, k3[0]+1, k4[0]+1))\n",
        "\n",
        "                        c1=numpy.cos((numpy.pi/4.0)*(k1[0]+1))\n",
        "                        s1=numpy.sin((numpy.pi/4.0)*(k1[0]+1))\n",
        "                        c2=numpy.cos((numpy.pi/4.0)*(k2[0]+1))\n",
        "                        s2=numpy.sin((numpy.pi/4.0)*(k2[0]+1))\n",
        "                        c3=numpy.cos((numpy.pi/4.0)*(k3[0]+1))\n",
        "                        s3=numpy.sin((numpy.pi/4.0)*(k3[0]+1))\n",
        "                        c4=numpy.cos((numpy.pi/4.0)*(k4[0]+1))\n",
        "                        s4=numpy.sin((numpy.pi/4.0)*(k4[0]+1))\n",
        "\n",
        "                        minim=total(c1,s1,c2,s2,c3,s3,c4,s4)\n",
        "\n",
        "                        solutions[(k1[0]+1, k2[0]+1, k3[0]+1, k4[0]+1)]= minim\n",
        "                        counter=counter+1\n",
        "\n",
        "    if num_rots==5:\n",
        "\n",
        "        k1=tuple(i for i,x in enumerate(bit_new_answer[0:8]) if x == 1)\n",
        "        k2=tuple(i for i,x in enumerate(bit_new_answer[8:16]) if x == 1)\n",
        "        k3=tuple(i for i,x in enumerate(bit_new_answer[16:24]) if x == 1)\n",
        "        k4=tuple(i for i,x in enumerate(bit_new_answer[24:32]) if x == 1)\n",
        "        k5=tuple(i for i,x in enumerate(bit_new_answer[32:40]) if x == 1)\n",
        "\n",
        "\n",
        "        if len(k1)==1:\n",
        "            if len(k2)==1:\n",
        "                if len(k3)==1:\n",
        "                    if len(k4)==1:\n",
        "                        if len(k5)==1:\n",
        "\n",
        "                            occur_solutions.append((k1[0]+1, k2[0]+1, k3[0]+1, k4[0]+1, k5[0]+1))\n",
        "\n",
        "                            c1=numpy.cos((numpy.pi/4.0)*(k1[0]+1))\n",
        "                            s1=numpy.sin((numpy.pi/4.0)*(k1[0]+1))\n",
        "                            c2=numpy.cos((numpy.pi/4.0)*(k2[0]+1))\n",
        "                            s2=numpy.sin((numpy.pi/4.0)*(k2[0]+1))\n",
        "                            c3=numpy.cos((numpy.pi/4.0)*(k3[0]+1))\n",
        "                            s3=numpy.sin((numpy.pi/4.0)*(k3[0]+1))\n",
        "                            c4=numpy.cos((numpy.pi/4.0)*(k4[0]+1))\n",
        "                            s4=numpy.sin((numpy.pi/4.0)*(k4[0]+1))\n",
        "                            c5=numpy.cos((numpy.pi/4.0)*(k5[0]+1))\n",
        "                            s5=numpy.sin((numpy.pi/4.0)*(k5[0]+1))\n",
        "\n",
        "                            minim=total(c1,s1,c2,s2,c3,s3,c4,s4,c5,s5)\n",
        "\n",
        "                            solutions[(k1[0]+1, k2[0]+1, k3[0]+1, k4[0]+1, k5[0]+1)]= minim\n",
        "                            counter=counter+1\n",
        "\n",
        "    if num_rots==6:\n",
        "\n",
        "        k1=tuple(i for i,x in enumerate(bit_new_answer[0:8]) if x == 1)\n",
        "        k2=tuple(i for i,x in enumerate(bit_new_answer[8:16]) if x == 1)\n",
        "        k3=tuple(i for i,x in enumerate(bit_new_answer[16:24]) if x == 1)\n",
        "        k4=tuple(i for i,x in enumerate(bit_new_answer[24:32]) if x == 1)\n",
        "        k5=tuple(i for i,x in enumerate(bit_new_answer[32:40]) if x == 1)\n",
        "        k6=tuple(i for i,x in enumerate(bit_new_answer[40:48]) if x == 1)\n",
        "\n",
        "\n",
        "        if len(k1)==1:\n",
        "            if len(k2)==1:\n",
        "                if len(k3)==1:\n",
        "                    if len(k4)==1:\n",
        "                        if len(k5)==1:\n",
        "                            if len(k6)==1:\n",
        "\n",
        "                                occur_solutions.append((k1[0]+1, k2[0]+1, k3[0]+1, k4[0]+1, k5[0]+1, k6[0]+1))\n",
        "\n",
        "                                c1=numpy.cos((numpy.pi/4.0)*(k1[0]+1))\n",
        "                                s1=numpy.sin((numpy.pi/4.0)*(k1[0]+1))\n",
        "                                c2=numpy.cos((numpy.pi/4.0)*(k2[0]+1))\n",
        "                                s2=numpy.sin((numpy.pi/4.0)*(k2[0]+1))\n",
        "                                c3=numpy.cos((numpy.pi/4.0)*(k3[0]+1))\n",
        "                                s3=numpy.sin((numpy.pi/4.0)*(k3[0]+1))\n",
        "                                c4=numpy.cos((numpy.pi/4.0)*(k4[0]+1))\n",
        "                                s4=numpy.sin((numpy.pi/4.0)*(k4[0]+1))\n",
        "                                c5=numpy.cos((numpy.pi/4.0)*(k5[0]+1))\n",
        "                                s5=numpy.sin((numpy.pi/4.0)*(k5[0]+1))\n",
        "                                c6=numpy.cos((numpy.pi/4.0)*(k6[0]+1))\n",
        "                                s6=numpy.sin((numpy.pi/4.0)*(k6[0]+1))\n",
        "\n",
        "                                minim=total(c1,s1,c2,s2,c3,s3,c4,s4,c5,s5,c6,s6)\n",
        "\n",
        "                                solutions[(k1[0]+1, k2[0]+1, k3[0]+1, k4[0]+1, k5[0]+1, k6[0]+1)]= minim\n",
        "                                counter=counter+1\n",
        "\n",
        "    if num_rots==8:\n",
        "\n",
        "        k1=tuple(i for i,x in enumerate(bit_new_answer[0:8]) if x == 1)\n",
        "        k2=tuple(i for i,x in enumerate(bit_new_answer[8:16]) if x == 1)\n",
        "        k3=tuple(i for i,x in enumerate(bit_new_answer[16:24]) if x == 1)\n",
        "        k4=tuple(i for i,x in enumerate(bit_new_answer[24:32]) if x == 1)\n",
        "        k5=tuple(i for i,x in enumerate(bit_new_answer[32:40]) if x == 1)\n",
        "        k6=tuple(i for i,x in enumerate(bit_new_answer[40:48]) if x == 1)\n",
        "        k7=tuple(i for i,x in enumerate(bit_new_answer[48:56]) if x == 1)\n",
        "        k8=tuple(i for i,x in enumerate(bit_new_answer[56:64]) if x == 1)\n",
        "\n",
        "\n",
        "\n",
        "        if len(k1)==1:\n",
        "            if len(k2)==1:\n",
        "                if len(k3)==1:\n",
        "                    if len(k4)==1:\n",
        "                        if len(k5)==1:\n",
        "                            if len(k6)==1:\n",
        "                                if len(k7)==1:\n",
        "                                    if len(k8)==1:\n",
        "\n",
        "                                        occur_solutions.append((k1[0]+1, k2[0]+1, k3[0]+1, k4[0]+1, k5[0]+1, k6[0]+1, k7[0]+1, k8[0]+1))\n",
        "\n",
        "                                        c1=numpy.cos((numpy.pi/4.0)*(k1[0]+1))\n",
        "                                        s1=numpy.sin((numpy.pi/4.0)*(k1[0]+1))\n",
        "                                        c2=numpy.cos((numpy.pi/4.0)*(k2[0]+1))\n",
        "                                        s2=numpy.sin((numpy.pi/4.0)*(k2[0]+1))\n",
        "                                        c3=numpy.cos((numpy.pi/4.0)*(k3[0]+1))\n",
        "                                        s3=numpy.sin((numpy.pi/4.0)*(k3[0]+1))\n",
        "                                        c4=numpy.cos((numpy.pi/4.0)*(k4[0]+1))\n",
        "                                        s4=numpy.sin((numpy.pi/4.0)*(k4[0]+1))\n",
        "                                        c5=numpy.cos((numpy.pi/4.0)*(k5[0]+1))\n",
        "                                        s5=numpy.sin((numpy.pi/4.0)*(k5[0]+1))\n",
        "                                        c6=numpy.cos((numpy.pi/4.0)*(k6[0]+1))\n",
        "                                        s6=numpy.sin((numpy.pi/4.0)*(k6[0]+1))\n",
        "                                        c7=numpy.cos((numpy.pi/4.0)*(k7[0]+1))\n",
        "                                        s7=numpy.sin((numpy.pi/4.0)*(k7[0]+1))\n",
        "                                        c8=numpy.cos((numpy.pi/4.0)*(k8[0]+1))\n",
        "                                        s8=numpy.sin((numpy.pi/4.0)*(k8[0]+1))\n",
        "\n",
        "                                        minim=total(c1,s1,c2,s2,c3,s3,c4,s4,c5,s5,c6,s6,c7,s7,c8,s8)\n",
        "\n",
        "                                        solutions[(k1[0]+1, k2[0]+1, k3[0]+1, k4[0]+1, k5[0]+1, k6[0]+1, k7[0]+1, k8[0]+1)]= minim\n",
        "\n",
        "                                        counter=counter+1\n",
        "\n",
        "\n",
        "for sols in  list(set(occur_solutions)):\n",
        "    occurrences[sols]=occur_solutions.count(sols)\n",
        "\n",
        "Final_Solutions= sorted(solutions.items(), key=lambda x: x[1], reverse=True)"
      ]
    },
    {
      "cell_type": "markdown",
      "id": "8fcdabca",
      "metadata": {
        "id": "8fcdabca"
      },
      "source": [
        "## Display Solutions"
      ]
    },
    {
      "cell_type": "markdown",
      "id": "c0fc3fb2",
      "metadata": {
        "id": "c0fc3fb2"
      },
      "source": [
        "Number of acceptable solutions that do not violate the hard contraint:"
      ]
    },
    {
      "cell_type": "code",
      "execution_count": null,
      "id": "8f993a1f",
      "metadata": {
        "colab": {
          "base_uri": "https://localhost:8080/"
        },
        "id": "8f993a1f",
        "outputId": "ce80fcbe-95b4-41ac-8bc8-d8d98bc3be12"
      },
      "outputs": [
        {
          "output_type": "stream",
          "name": "stdout",
          "text": [
            "Number of acceptable solutions found:  10\n"
          ]
        }
      ],
      "source": [
        "print( \"Number of acceptable solutions found: \", counter)"
      ]
    },
    {
      "cell_type": "markdown",
      "id": "22f9330e",
      "metadata": {
        "id": "22f9330e"
      },
      "source": [
        "Dictionary containing all the acceptable solutions found. Each solution is of the following form\n",
        "$[(k_1..k_d), H_B(k_1..k_d)]$ where $(k_1..k_d)$ are the parameters that define the torsional angle value $\\theta_i=\\frac{\\pi}{4}k_i$, while $H_B(k_1..k_d)$ is the value of the optimization function, evaluated in $(k_1..k_d)$"
      ]
    },
    {
      "cell_type": "code",
      "execution_count": null,
      "id": "35dc96af",
      "metadata": {
        "colab": {
          "base_uri": "https://localhost:8080/"
        },
        "id": "35dc96af",
        "outputId": "ebcf0dc0-0f25-42bc-e80f-4e45cad82a84"
      },
      "outputs": [
        {
          "output_type": "stream",
          "name": "stdout",
          "text": [
            "All solutions found:  [((2, 4), 327.366871524616), ((5, 5), 319.223768838180), ((1, 5), 307.453415431885), ((2, 3), 307.388788344650), ((5, 6), 306.078122119703), ((8, 4), 304.424975855339), ((8, 5), 298.720230095581), ((6, 3), 247.298528115165), ((6, 1), 182.024160945539)]\n"
          ]
        }
      ],
      "source": [
        "print(\"All solutions found: \", Final_Solutions)"
      ]
    },
    {
      "cell_type": "markdown",
      "id": "02c56e2e",
      "metadata": {
        "id": "02c56e2e"
      },
      "source": [
        "Occurrences of each solution $(k_1..k_d)$"
      ]
    },
    {
      "cell_type": "code",
      "execution_count": null,
      "id": "e0ed642a",
      "metadata": {
        "colab": {
          "base_uri": "https://localhost:8080/"
        },
        "id": "e0ed642a",
        "outputId": "103cc0d3-1c65-414c-a660-e999366ee61b"
      },
      "outputs": [
        {
          "output_type": "stream",
          "name": "stdout",
          "text": [
            "Occurrences of each solution:  {(2, 4): 1, (5, 5): 1, (8, 4): 2, (1, 5): 1, (6, 1): 1, (2, 3): 1, (5, 6): 1, (6, 3): 1, (8, 5): 1}\n"
          ]
        }
      ],
      "source": [
        "print( \"Occurrences of each solution: \", occurrences)"
      ]
    },
    {
      "cell_type": "markdown",
      "id": "e3e933cd",
      "metadata": {
        "id": "e3e933cd"
      },
      "source": [
        "Best solution found  $(k_1..k_d)_{best}$ and its occurrency"
      ]
    },
    {
      "cell_type": "code",
      "execution_count": null,
      "id": "9e52e6b5",
      "metadata": {
        "colab": {
          "base_uri": "https://localhost:8080/"
        },
        "id": "9e52e6b5",
        "outputId": "b8771317-0858-48b1-a088-a411a7031e9b"
      },
      "outputs": [
        {
          "output_type": "stream",
          "name": "stdout",
          "text": [
            "Best Solution Found:  ((2, 4), 327.366871524616)\n",
            "Best Solution Occurences:  1\n"
          ]
        }
      ],
      "source": [
        "print( \"Best Solution Found: \", Final_Solutions[0])\n",
        "print( \"Best Solution Occurences: \", occurrences[Final_Solutions[0][0]])"
      ]
    },
    {
      "cell_type": "code",
      "source": [
        "import numpy as np\n",
        "import random\n",
        "\n",
        "def rotation_matrix(theta):\n",
        "    \"\"\"\n",
        "    Compute a 2D rotation matrix for a given angle theta.\n",
        "    For higher dimensions, extend this function as needed.\n",
        "    \"\"\"\n",
        "    return np.array([[np.cos(theta), -np.sin(theta)],\n",
        "                     [np.sin(theta), np.cos(theta)]])\n",
        "\n",
        "def compute_distance_squared(atom1, atom2):\n",
        "    \"\"\"\n",
        "    Compute the squared Euclidean distance between two points.\n",
        "    \"\"\"\n",
        "    return np.sum((atom1 - atom2)**2)\n",
        "\n",
        "def extract_from_hubo(hubo, num_discrete_angles=8):\n",
        "    \"\"\"\n",
        "    Extract atom coordinates, torsional bonds, and an example x vector from HUBO data.\n",
        "\n",
        "    Parameters:\n",
        "        hubo (dict): The HUBO dictionary with tuples as keys representing variables and coefficients as values.\n",
        "        num_discrete_angles (int): Number of discrete angles for each torsional bond.\n",
        "\n",
        "    Returns:\n",
        "        atom_coords (list of numpy arrays): Dummy atom coordinates.\n",
        "        torsional_bonds (list of tuples): Pairs of indices representing torsional bonds.\n",
        "        x_example (list): Example one-hot encoded vector for the torsional angles.\n",
        "    \"\"\"\n",
        "    # Extract unique indices from HUBO keys\n",
        "    all_indices = set()\n",
        "    for key in hubo.keys():\n",
        "        if isinstance(key, tuple):\n",
        "            all_indices.update(key)\n",
        "        elif isinstance(key, int):  # Single variable\n",
        "            all_indices.add(key)\n",
        "\n",
        "    max_index = max(all_indices)  # Maximum variable index\n",
        "\n",
        "    # Generate dummy atom coordinates (2D representation)\n",
        "    atom_coords = [np.array([i, 0.0]) for i in range(max_index + 1)]\n",
        "\n",
        "    # Generate torsional bonds as pairs of consecutive indices\n",
        "    torsional_bonds = [(i, i + 1) for i in range(max_index)]\n",
        "\n",
        "    # Construct x_example: One-hot encoding for each torsional bond\n",
        "    x_example = []\n",
        "    for _ in range(len(torsional_bonds)):\n",
        "        one_hot = [0] * num_discrete_angles\n",
        "        one_hot[0] = 1  # Example: First angle selected\n",
        "        x_example.extend(one_hot)\n",
        "\n",
        "    return atom_coords, torsional_bonds, x_example\n",
        "\n",
        "def molecular_unfolding_objective(hubo, x, num_discrete_angles=8, A_const=100):\n",
        "    \"\"\"\n",
        "    Compute the molecular unfolding objective function based on HUBO data.\n",
        "\n",
        "    Parameters:\n",
        "        hubo (dict): HUBO dictionary containing variable interactions and coefficients.\n",
        "        x (list of int): One-hot encoded binary variables for torsional angles.\n",
        "        num_discrete_angles (int): Number of discrete angle choices per torsional bond.\n",
        "        A_const (float): Weight for the hard constraint.\n",
        "\n",
        "    Returns:\n",
        "        float: The computed objective function value.\n",
        "    \"\"\"\n",
        "    # Extract data from HUBO\n",
        "    atom_coords, torsional_bonds, _ = extract_from_hubo(hubo, num_discrete_angles)\n",
        "\n",
        "    num_bonds = len(torsional_bonds)  # Number of torsional bonds\n",
        "    x_matrix = np.array(x).reshape(num_bonds, num_discrete_angles)  # Reshape binary variables\n",
        "\n",
        "    # Hard Constraint\n",
        "    hard_constraint = A_const * sum((np.sum(x_matrix[bond_idx]) - 1)**2 for bond_idx in range(num_bonds))\n",
        "\n",
        "    # Initialize unfolded atom coordinates\n",
        "    unfolded_coords = atom_coords.copy()\n",
        "\n",
        "    # Apply rotations based on binary variables\n",
        "    for bond_idx, (atom1_idx, atom2_idx) in enumerate(torsional_bonds):\n",
        "        selected_angle_idx = np.argmax(x_matrix[bond_idx])  # Find selected angle index\n",
        "        angle = (selected_angle_idx * 2 * np.pi) / num_discrete_angles  # Convert index to angle\n",
        "        rotation = rotation_matrix(angle)\n",
        "\n",
        "        # Apply rotation to atom2 (relative to atom1)\n",
        "        relative_coords = atom_coords[atom2_idx] - atom_coords[atom1_idx]\n",
        "        rotated_coords = np.dot(rotation, relative_coords) + atom_coords[atom1_idx]\n",
        "        unfolded_coords[atom2_idx] = rotated_coords\n",
        "\n",
        "    # Distance Constraint\n",
        "    distance_constraint = 0\n",
        "    for i, coord1 in enumerate(unfolded_coords):\n",
        "        for j, coord2 in enumerate(unfolded_coords):\n",
        "            if i < j:  # Avoid double counting\n",
        "                distance_constraint += compute_distance_squared(coord1, coord2)\n",
        "\n",
        "    # Return the final objective value\n",
        "    return hard_constraint - distance_constraint\n",
        "\n",
        "def random_search(hubo, num_discrete_angles=8, A_const=100, num_iterations=100):\n",
        "    \"\"\"\n",
        "    Perform random search to find the best solution for the molecular unfolding problem.\n",
        "\n",
        "    Parameters:\n",
        "        hubo (dict): HUBO dictionary.\n",
        "        num_discrete_angles (int): Number of discrete angle choices per torsional bond.\n",
        "        A_const (float): Hard constraint weight.\n",
        "        num_iterations (int): Number of random solutions to generate.\n",
        "\n",
        "    Returns:\n",
        "        best_solution (list): The best solution found.\n",
        "        best_objective_value (float): The corresponding objective value.\n",
        "    \"\"\"\n",
        "    best_solution = None\n",
        "    best_objective_value = float('-inf')  # Assuming we're maximizing the objective value\n",
        "\n",
        "    # Get number of bonds from HUBO\n",
        "    _, torsional_bonds, _ = extract_from_hubo(hubo, num_discrete_angles)\n",
        "    num_bonds = len(torsional_bonds)\n",
        "\n",
        "    for _ in range(num_iterations):\n",
        "        # Generate a random candidate solution (random one-hot encoding for each bond)\n",
        "        random_solution = []\n",
        "        for _ in range(num_bonds):  # For each bond\n",
        "            one_hot = [0] * num_discrete_angles\n",
        "            random_choice = random.randint(0, num_discrete_angles - 1)\n",
        "            one_hot[random_choice] = 1\n",
        "            random_solution.extend(one_hot)\n",
        "\n",
        "        # Ensure that the solution array size matches (num_bonds * num_discrete_angles)\n",
        "        if len(random_solution) != num_bonds * num_discrete_angles:\n",
        "            raise ValueError(f\"Random solution size does not match expected size: {num_bonds * num_discrete_angles}\")\n",
        "\n",
        "        # Evaluate the objective function for the random solution\n",
        "        objective_value = molecular_unfolding_objective(hubo, random_solution, num_discrete_angles, A_const)\n",
        "\n",
        "        # Update the best solution if necessary\n",
        "        if objective_value > best_objective_value:\n",
        "            best_solution = random_solution\n",
        "            best_objective_value = objective_value\n",
        "\n",
        "    return best_solution, best_objective_value\n",
        "\n",
        "\n",
        "# Example HUBO data\n",
        "example_hubo = HUBO\n",
        "\n",
        "# Run Random Search\n",
        "best_solution, best_objective_value = random_search(example_hubo, num_iterations=100)\n",
        "print(\"Best Solution:\", best_solution)\n",
        "print(\"Best Objective Value:\", best_objective_value)\n"
      ],
      "metadata": {
        "colab": {
          "base_uri": "https://localhost:8080/"
        },
        "id": "6j6V9YQxpKaq",
        "outputId": "a0616ef3-b4bb-4ee0-9c20-ddb3e3871c0b"
      },
      "id": "6j6V9YQxpKaq",
      "execution_count": null,
      "outputs": [
        {
          "output_type": "stream",
          "name": "stdout",
          "text": [
            "Best Solution: [0, 1, 0, 0, 0, 0, 0, 0, 1, 0, 0, 0, 0, 0, 0, 0, 1, 0, 0, 0, 0, 0, 0, 0, 0, 0, 0, 0, 0, 1, 0, 0, 0, 0, 0, 0, 0, 0, 0, 1, 0, 0, 0, 0, 1, 0, 0, 0, 0, 0, 0, 1, 0, 0, 0, 0, 0, 0, 0, 0, 0, 1, 0, 0, 1, 0, 0, 0, 0, 0, 0, 0, 0, 1, 0, 0, 0, 0, 0, 0, 0, 0, 0, 1, 0, 0, 0, 0, 0, 0, 0, 0, 1, 0, 0, 0, 0, 0, 0, 0, 1, 0, 0, 0, 0, 0, 0, 0, 1, 0, 0, 0, 0, 0, 0, 1, 0, 0, 0, 0, 0, 0, 0, 0, 1, 0, 0, 0]\n",
            "Best Objective Value: -5578.630375590801\n"
          ]
        }
      ]
    },
    {
      "cell_type": "code",
      "source": [
        "import time\n",
        "\n",
        "# Define the number of iterations for random search\n",
        "num_random_iterations = 100\n",
        "\n",
        "# Measure time for Random Search\n",
        "start_time = time.time()\n",
        "best_random_solution, best_random_value = random_search(example_hubo, num_iterations=num_random_iterations)\n",
        "random_search_time = time.time() - start_time\n",
        "\n",
        "# Measure time for Simulated Annealing\n",
        "start_time = time.time()\n",
        "sa_sampleset = sampler.sample(bqm, num_reads=10)  # Adjust sample size if needed\n",
        "best_sa_solution = sa_sampleset.first.sample\n",
        "best_sa_value = sa_sampleset.first.energy\n",
        "simulated_annealing_time = time.time() - start_time\n",
        "\n",
        "# Print Comparison\n",
        "print(\"Comparison of Random Search and Simulated Annealing\")\n",
        "print(\"---------------------------------------------------\")\n",
        "print(f\"Random Search Best Value: {best_random_value}, Time Taken: {random_search_time:.2f} seconds\")\n",
        "print(f\"Simulated Annealing  Best Value: {best_sa_value}, Time Taken: {simulated_annealing_time:.2f} seconds\")\n"
      ],
      "metadata": {
        "colab": {
          "base_uri": "https://localhost:8080/"
        },
        "id": "k1nklm6yrAWI",
        "outputId": "31887e6d-5381-422b-9c8a-3dadbe58ed07"
      },
      "id": "k1nklm6yrAWI",
      "execution_count": null,
      "outputs": [
        {
          "output_type": "stream",
          "name": "stdout",
          "text": [
            "Comparison of Random Search and Simulated Annealing\n",
            "---------------------------------------------------\n",
            "Random Search Best Value: -5367.819192408758, Time Taken: 0.13 seconds\n",
            "Simulated Annealing  Best Value: -4670.4140625, Time Taken: 0.01 seconds\n"
          ]
        }
      ]
    },
    {
      "cell_type": "code",
      "source": [
        "import matplotlib.pyplot as plt\n",
        "\n",
        "# Example data (replace these with your actual results)\n",
        "methods = ['Random Search', 'Simulated Annealing']\n",
        "best_values = [best_random_value, best_sa_value]  # Replace with actual best energy values\n",
        "times = [random_search_time, simulated_annealing_time]  # Replace with actual time taken values\n",
        "\n",
        "# First Graph: Best Energy (Objective Value) Comparison\n",
        "plt.figure(figsize=(8, 5))\n",
        "plt.bar(methods, best_values, color='blue', alpha=0.6)\n",
        "plt.title('Best Energy Comparison: Random Search vs Simulated Annealing')\n",
        "plt.xlabel('Optimization Method')\n",
        "plt.ylabel('Best Energy (Objective Value)')\n",
        "plt.tight_layout()\n",
        "plt.show()\n",
        "\n",
        "# Second Graph: Time Taken Comparison\n",
        "plt.figure(figsize=(8, 5))\n",
        "plt.bar(methods, times, color='red', alpha=0.6)\n",
        "plt.title('Time Taken Comparison: Random Search vs Simulated Annealing')\n",
        "plt.xlabel('Optimization Method')\n",
        "plt.ylabel('Time Taken (seconds)')\n",
        "plt.tight_layout()\n",
        "plt.show()\n"
      ],
      "metadata": {
        "colab": {
          "base_uri": "https://localhost:8080/",
          "height": 997
        },
        "id": "F3onc1x4uRh1",
        "outputId": "62e0fe56-6e8b-4548-ac2d-c3758e2f49de"
      },
      "id": "F3onc1x4uRh1",
      "execution_count": null,
      "outputs": [
        {
          "output_type": "display_data",
          "data": {
            "text/plain": [
              "<Figure size 800x500 with 1 Axes>"
            ],
            "image/png": "[encoded data removed]"
          },
          "metadata": {}
        },
        {
          "output_type": "display_data",
          "data": {
            "text/plain": [
              "<Figure size 800x500 with 1 Axes>"
            ],
            "image/png": "[encoded data removed]"
          },
          "metadata": {}
        }
      ]
    },
    {
      "cell_type": "code",
      "source": [
        "import numpy as np\n",
        "import random\n",
        "import time\n",
        "import matplotlib.pyplot as plt\n",
        "import neal\n"
      ],
      "metadata": {
        "id": "4_a3AucTeQ2p"
      },
      "id": "4_a3AucTeQ2p",
      "execution_count": null,
      "outputs": []
    },
    {
      "cell_type": "markdown",
      "source": [
        "\n",
        "# Geodock-like Monte Carlo Search (optimized)"
      ],
      "metadata": {
        "id": "BoHNvsL_efvA"
      },
      "id": "BoHNvsL_efvA"
    },
    {
      "cell_type": "code",
      "source": [
        "def geodock_monte_carlo_search(hubo, num_discrete_angles=8, A_const=100, num_iterations=100):\n",
        "    \"\"\"\n",
        "    Perform a Monte Carlo-based search for the best solution in the molecular unfolding problem.\n",
        "    Optimized random search using better sampling strategies.\n",
        "\n",
        "    Parameters:\n",
        "        hubo (dict): HUBO dictionary.\n",
        "        num_discrete_angles (int): Number of discrete angle choices per torsional bond.\n",
        "        A_const (float): Hard constraint weight.\n",
        "        num_iterations (int): Number of random solutions to generate.\n",
        "\n",
        "    Returns:\n",
        "        best_solution (list): The best solution found.\n",
        "        best_objective_value (float): The corresponding objective value.\n",
        "        monte_carlo_time (float): The time taken for the Monte Carlo search.\n",
        "    \"\"\"\n",
        "    best_solution = None\n",
        "    best_objective_value = float('-inf')  # Assuming we're maximizing the objective value\n",
        "\n",
        "    _, torsional_bonds, _ = extract_from_hubo(hubo, num_discrete_angles)\n",
        "    num_bonds = len(torsional_bonds)\n",
        "\n",
        "    start_time = time.time()\n",
        "\n",
        "    # Optimized Monte Carlo: instead of random, we will select more promising configurations\n",
        "    for _ in range(num_iterations):\n",
        "        # Generate a random solution, but use better probabilistic sampling or systematic steps\n",
        "        random_solution = []\n",
        "        for _ in range(num_bonds):  # For each bond\n",
        "            one_hot = [0] * num_discrete_angles\n",
        "            random_choice = random.randint(0, num_discrete_angles - 1)\n",
        "            one_hot[random_choice] = 1\n",
        "            random_solution.extend(one_hot)\n",
        "\n",
        "        if len(random_solution) != num_bonds * num_discrete_angles:\n",
        "            continue\n",
        "\n",
        "        objective_value = molecular_unfolding_objective(hubo, random_solution, num_discrete_angles, A_const)\n",
        "\n",
        "        if objective_value > best_objective_value:\n",
        "            best_solution = random_solution\n",
        "            best_objective_value = objective_value\n",
        "\n",
        "    monte_carlo_time = time.time() - start_time\n",
        "    return best_solution, best_objective_value, monte_carlo_time"
      ],
      "metadata": {
        "id": "LlNBMFXWeWy_"
      },
      "id": "LlNBMFXWeWy_",
      "execution_count": null,
      "outputs": []
    },
    {
      "cell_type": "markdown",
      "source": [
        "# Simulated Annealing Search (optimized, already defined in your code)"
      ],
      "metadata": {
        "id": "EXcHqiyUelOw"
      },
      "id": "EXcHqiyUelOw"
    },
    {
      "cell_type": "code",
      "source": [
        "def simulated_annealing_search(bqm, num_reads=10):\n",
        "    \"\"\"\n",
        "    Perform Simulated Annealing for the best solution in the molecular unfolding problem.\n",
        "    \"\"\"\n",
        "    sampler = neal.SimulatedAnnealingSampler()\n",
        "    start_time = time.time()\n",
        "    sampleset = sampler.sample(bqm, num_reads=num_reads)\n",
        "    best_sa_solution = sampleset.first.sample\n",
        "    best_sa_value = sampleset.first.energy\n",
        "    sa_time = time.time() - start_time\n",
        "    return best_sa_solution, best_sa_value, sa_time"
      ],
      "metadata": {
        "id": "RfeMxTmWeiup"
      },
      "id": "RfeMxTmWeiup",
      "execution_count": null,
      "outputs": []
    },
    {
      "cell_type": "markdown",
      "source": [
        "\n",
        "# Random Search (already defined in your code)"
      ],
      "metadata": {
        "id": "b6sR9u02epBX"
      },
      "id": "b6sR9u02epBX"
    },
    {
      "cell_type": "code",
      "source": [
        "def random_search(hubo, num_discrete_angles=8, A_const=100, num_iterations=100):\n",
        "    \"\"\"\n",
        "    Perform random search to find the best solution for the molecular unfolding problem.\n",
        "    \"\"\"\n",
        "    best_solution = None\n",
        "    best_objective_value = float('-inf')\n",
        "\n",
        "    _, torsional_bonds, _ = extract_from_hubo(hubo, num_discrete_angles)\n",
        "    num_bonds = len(torsional_bonds)\n",
        "\n",
        "    start_time = time.time()\n",
        "\n",
        "    for _ in range(num_iterations):\n",
        "        random_solution = []\n",
        "        for _ in range(num_bonds):  # For each bond\n",
        "            one_hot = [0] * num_discrete_angles\n",
        "            random_choice = random.randint(0, num_discrete_angles - 1)\n",
        "            one_hot[random_choice] = 1\n",
        "            random_solution.extend(one_hot)\n",
        "\n",
        "        if len(random_solution) != num_bonds * num_discrete_angles:\n",
        "            raise ValueError(f\"Random solution size does not match expected size: {num_bonds * num_discrete_angles}\")\n",
        "\n",
        "        objective_value = molecular_unfolding_objective(hubo, random_solution, num_discrete_angles, A_const)\n",
        "\n",
        "        if objective_value > best_objective_value:\n",
        "            best_solution = random_solution\n",
        "            best_objective_value = objective_value\n",
        "\n",
        "    random_time = time.time() - start_time\n",
        "    return best_solution, best_objective_value, random_time"
      ],
      "metadata": {
        "id": "a7UP2_NkeoNw"
      },
      "id": "a7UP2_NkeoNw",
      "execution_count": null,
      "outputs": []
    },
    {
      "cell_type": "markdown",
      "source": [
        "# Applying the searching algorithms on the HUBO"
      ],
      "metadata": {
        "id": "RozNjJQWfBsX"
      },
      "id": "RozNjJQWfBsX"
    },
    {
      "cell_type": "code",
      "source": [
        "\n",
        "example_hubo = HUBO  # Define your HUBO dictionary here\n",
        "\n",
        "# Run Geodock Monte Carlo Search\n",
        "best_geodock_monte_carlo_solution, best_geodock_monte_carlo_value, geodock_monte_carlo_time = geodock_monte_carlo_search(example_hubo, num_discrete_angles=8, num_iterations=100)\n",
        "\n",
        "# Run Random Search (as before)\n",
        "best_random_solution, best_random_value, random_time = random_search(example_hubo, num_iterations=100)\n",
        "\n",
        "# Run Simulated Annealing (as before)\n",
        "best_sa_solution, best_sa_value, sa_time = simulated_annealing_search(bqm, num_reads=10)\n",
        "\n",
        "# Data for comparison\n",
        "methods = ['Geodock Monte Carlo', 'Random Search', 'Simulated Annealing']\n",
        "best_values = [best_geodock_monte_carlo_value, best_random_value, best_sa_value]\n",
        "times = [geodock_monte_carlo_time, random_time, sa_time]\n",
        "\n",
        "# Plotting Best Energy Comparison\n",
        "plt.figure(figsize=(8, 5))\n",
        "plt.bar(methods, best_values, color='blue', alpha=0.6)\n",
        "plt.title('Best Energy Comparison: Geodock, Random, and Simulated Annealing')\n",
        "plt.xlabel('Optimization Method')\n",
        "plt.ylabel('Best Energy (Objective Value)')\n",
        "plt.tight_layout()\n",
        "plt.show()\n",
        "\n",
        "# Plotting Time Comparison\n",
        "plt.figure(figsize=(8, 5))\n",
        "plt.bar(methods, times, color='red', alpha=0.6)\n",
        "plt.title('Time Taken Comparison: Geodock, Random, and Simulated Annealing')\n",
        "plt.xlabel('Optimization Method')\n",
        "plt.ylabel('Time Taken (seconds)')\n",
        "plt.tight_layout()\n",
        "plt.show()\n"
      ],
      "metadata": {
        "colab": {
          "base_uri": "https://localhost:8080/",
          "height": 997
        },
        "id": "XAy9matp3frv",
        "outputId": "6531e392-bdd2-433e-e958-06626b17557c"
      },
      "id": "XAy9matp3frv",
      "execution_count": null,
      "outputs": [
        {
          "output_type": "display_data",
          "data": {
            "text/plain": [
              "<Figure size 800x500 with 1 Axes>"
            ],
            "image/png": "[encoded data removed]"
          },
          "metadata": {}
        },
        {
          "output_type": "display_data",
          "data": {
            "text/plain": [
              "<Figure size 800x500 with 1 Axes>"
            ],
            "image/png": "[encoded data removed]"
          },
          "metadata": {}
        }
      ]
    }
  ],
  "metadata": {
    "kernelspec": {
      "display_name": "Python 3 (ipykernel)",
      "language": "python",
      "name": "python3"
    },
    "language_info": {
      "codemirror_mode": {
        "name": "ipython",
        "version": 3
      },
      "file_extension": ".py",
      "mimetype": "text/x-python",
      "name": "python",
      "nbconvert_exporter": "python",
      "pygments_lexer": "ipython3",
      "version": "3.9.12"
    },
    "colab": {
      "provenance": []
    }
  },
  "nbformat": 4,
  "nbformat_minor": 5
}